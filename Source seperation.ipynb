{
 "cells": [
  {
   "cell_type": "markdown",
   "metadata": {},
   "source": [
    "**Signal Source seperation (de-noising)** [on regression principle]"
   ]
  },
  {
   "cell_type": "code",
   "execution_count": null,
   "metadata": {
    "id": "D-FcKbCAumKY"
   },
   "outputs": [],
   "source": [
    "import tensorflow as tf\n",
    "from tensorflow import keras\n",
    "from tensorflow.keras import layers\n",
    "import numpy as np\n",
    "import pandas as pd\n",
    "import matplotlib.pyplot as plt\n",
    "from tensorflow.keras.models import Sequential\n",
    "from tensorflow.keras.layers import Dense, Flatten, Softmax,LSTM,GRU\n",
    "import seaborn as sns\n",
    "import matplotlib.pyplot as plt\n",
    "import pandas as pd\n",
    "import librosa\n",
    "import math\n",
    "from IPython.display import Audio\n",
    "import os\n",
    "import pickle"
   ]
  },
  {
   "cell_type": "code",
   "execution_count": null,
   "metadata": {
    "id": "024F7uXCV7g2"
   },
   "outputs": [],
   "source": [
    "# a=np.array([[1,2,3],[4,5,6],[7,8,9]])\n",
    "# np.save('temp.npy',a)\n",
    "# a1=np.load('temp.npy')\n",
    "# a1"
   ]
  },
  {
   "cell_type": "code",
   "execution_count": null,
   "metadata": {
    "id": "F8NcgKk8yLNM"
   },
   "outputs": [],
   "source": [
    "# getting the filenames\n",
    "res=[]\n",
    "for root, dirs, files in os.walk(\"/content/drive/My Drive/Deep_Learning/HW3/timit-homework/tr/\"):\n",
    "  for filename in files:\n",
    "    res.append(filename)\n",
    "trx, trs, trn = [], [], []\n",
    "for filename in res:\n",
    "  if filename[:3] == \"trx\":\n",
    "    trx.append(filename)\n",
    "  elif filename[:3] == \"trs\":\n",
    "    trs.append(filename)\n",
    "  elif filename[:3] == \"trn\":\n",
    "    trn.append(filename)\n",
    "\n",
    "trs.sort()\n",
    "trx.sort()\n",
    "trn.sort()"
   ]
  },
  {
   "cell_type": "code",
   "execution_count": null,
   "metadata": {
    "id": "OlylH-XGEKAC"
   },
   "outputs": [],
   "source": [
    "directory= \"/content/drive/My Drive/Deep_Learning/HW3/timit-homework/tr/\""
   ]
  },
  {
   "cell_type": "code",
   "execution_count": null,
   "metadata": {
    "id": "feCKMnJCWyFr"
   },
   "outputs": [],
   "source": [
    "## Loading the wav files using librsoa\n",
    "TRX,TRS,TRN=[],[],[]\n",
    "#s,sr=librosa.load(path=directory+trs[0])\n",
    "for filename in trx:\n",
    "  TRX.append(librosa.load(path=directory+filename,sr=None)[0])\n",
    "for filename in trs:\n",
    "  TRS.append(librosa.load(path=directory+filename,sr=None)[0])\n",
    "\n",
    "for filename in trn:\n",
    "  TRN.append(librosa.load(path=directory+filename,sr=None)[0])\n"
   ]
  },
  {
   "cell_type": "code",
   "execution_count": null,
   "metadata": {
    "id": "lRZKVDIeeuSL"
   },
   "outputs": [],
   "source": [
    "# calculating the stft\n",
    "Xtr,Str,Ntr=[],[],[]\n",
    "Xtr_abs,Str_abs,Ntr_abs=[],[],[]\n",
    "for x in TRX:\n",
    "  Xtr.append(librosa.stft(x, n_fft=1024, hop_length=512))\n",
    "\n",
    "for x in TRS:\n",
    "  Str.append(librosa.stft(x, n_fft=1024, hop_length=512))\n",
    "\n",
    "for x in TRN:\n",
    "  Ntr.append(librosa.stft(x, n_fft=1024, hop_length=512))\n",
    "\n",
    "#getting the magnitude spectra\n",
    "for x in Xtr:\n",
    "  Xtr_abs.append(np.abs(x))\n",
    "\n",
    "for x in Str:\n",
    "  Str_abs.append(np.abs(x))\n",
    "\n",
    "for x in Ntr:\n",
    "  Ntr_abs.append(np.abs(x))\n"
   ]
  },
  {
   "cell_type": "code",
   "execution_count": null,
   "metadata": {
    "id": "naRTkM02ezbl"
   },
   "outputs": [],
   "source": [
    "## saving the lists in pickle objects\n",
    "file_name = \"Xtr.pkl\"\n",
    "open_file = open(directory+file_name, \"wb\")\n",
    "pickle.dump(Xtr, open_file)\n",
    "open_file.close()\n",
    "\n",
    "file_name = \"Str.pkl\"\n",
    "open_file = open(directory+file_name, \"wb\")\n",
    "pickle.dump(Str, open_file)\n",
    "open_file.close()\n",
    "\n",
    "file_name = \"Ntr.pkl\"\n",
    "open_file = open(directory+file_name, \"wb\")\n",
    "pickle.dump(Ntr, open_file)\n",
    "open_file.close()\n",
    "\n",
    "file_name = \"Xtr_abs.pkl\"\n",
    "open_file = open(directory+file_name, \"wb\")\n",
    "pickle.dump(Xtr_abs, open_file)\n",
    "open_file.close()\n",
    "\n",
    "file_name = \"Str_abs.pkl\"\n",
    "open_file = open(directory+file_name, \"wb\")\n",
    "pickle.dump(Str_abs, open_file)\n",
    "open_file.close()\n",
    "\n",
    "file_name = \"Ntr_abs.pkl\"\n",
    "open_file = open(directory+file_name, \"wb\")\n",
    "pickle.dump(Ntr_abs, open_file)\n",
    "open_file.close()"
   ]
  },
  {
   "cell_type": "code",
   "execution_count": null,
   "metadata": {
    "id": "-S6e1sJ5tbnu"
   },
   "outputs": [],
   "source": [
    "## Loading the spectrum lists from pickle\n",
    "file_name= \"Xtr_abs.pkl\"\n",
    "open_file = open(directory+file_name, \"rb\")\n",
    "Xtr_abs = pickle.load(open_file)\n",
    "open_file.close()\n",
    "\n",
    "file_name= \"Str_abs.pkl\"\n",
    "open_file = open(directory+file_name, \"rb\")\n",
    "Str_abs = pickle.load(open_file)\n",
    "open_file.close()\n",
    "\n",
    "file_name= \"Ntr_abs.pkl\"\n",
    "open_file = open(directory+file_name, \"rb\")\n",
    "Ntr_abs = pickle.load(open_file)\n",
    "open_file.close()\n",
    "\n",
    "file_name= \"Xtr.pkl\"\n",
    "open_file = open(directory+file_name, \"rb\")\n",
    "Xtr = pickle.load(open_file)\n",
    "open_file.close()\n",
    "\n",
    "file_name= \"Str.pkl\"\n",
    "open_file = open(directory+file_name, \"rb\")\n",
    "Str = pickle.load(open_file)\n",
    "open_file.close()\n",
    "\n",
    "file_name= \"Ntr.pkl\"\n",
    "open_file = open(directory+file_name, \"rb\")\n",
    "Ntr = pickle.load(open_file)\n",
    "open_file.close()\n"
   ]
  },
  {
   "cell_type": "code",
   "execution_count": null,
   "metadata": {
    "id": "G2eCr_rxpLvQ"
   },
   "outputs": [],
   "source": [
    "# trucating the samples\n",
    "temp=[arr.shape[1] for arr in Xtr_abs]\n",
    "Xtr_abs_trunc,Str_abs_trunc,Ntr_abs_trunc,Xtr_trunc,Str_trunc,Ntr_trunc=[],[],[],[],[],[]\n",
    "for arr in Xtr_abs:\n",
    "  Xtr_abs_trunc.append(arr[:,:min(temp)])\n",
    "\n",
    "for arr in Str_abs:\n",
    "  Str_abs_trunc.append(arr[:,:min(temp)])\n",
    "\n",
    "for arr in Ntr_abs:\n",
    "  Ntr_abs_trunc.append(arr[:,:min(temp)])\n",
    "\n",
    "for arr in Xtr:\n",
    "  Xtr_trunc.append(arr[:,:min(temp)])\n",
    "\n",
    "for arr in Str:\n",
    "  Str_trunc.append(arr[:,:min(temp)])\n",
    "\n",
    "for arr in Ntr:\n",
    "  Ntr_trunc.append(arr[:,:min(temp)])\n"
   ]
  },
  {
   "cell_type": "code",
   "execution_count": null,
   "metadata": {
    "id": "Z058pm01MX0q"
   },
   "outputs": [],
   "source": []
  },
  {
   "cell_type": "code",
   "execution_count": null,
   "metadata": {
    "colab": {
     "base_uri": "https://localhost:8080/"
    },
    "id": "boe8vsipxBXk",
    "outputId": "a54f0e38-080d-4372-b314-d5fd91977865"
   },
   "outputs": [
    {
     "name": "stdout",
     "output_type": "stream",
     "text": [
      "shapes (1200, 513, 39) (1200, 513, 39) (1200, 513, 39) (1200, 513, 39) (1200, 513, 39) (1200, 513, 39)\n"
     ]
    }
   ],
   "source": [
    "# reshaping the lists of arrays into nd arrdays\n",
    "Xtr_abs=np.array(Xtr_abs_trunc).reshape((1200,513,min(temp)))\n",
    "Str_abs=np.array(Str_abs_trunc).reshape((1200,513,min(temp)))\n",
    "Ntr_abs=np.array(Ntr_abs_trunc).reshape((1200,513,min(temp)))\n",
    "\n",
    "Xtr=np.array(Xtr_trunc).reshape((1200,513,min(temp)))\n",
    "Str=np.array(Str_trunc).reshape((1200,513,min(temp)))\n",
    "Ntr=np.array(Ntr_trunc).reshape((1200,513,min(temp)))\n",
    "print(\"shapes\",Xtr_abs.shape,Str_abs.shape,Ntr_abs.shape,Xtr.shape,Str.shape,Ntr.shape)"
   ]
  },
  {
   "cell_type": "code",
   "execution_count": null,
   "metadata": {
    "id": "ySy1cxJM4Ljp"
   },
   "outputs": [],
   "source": []
  },
  {
   "cell_type": "markdown",
   "metadata": {
    "id": "E16ok3wlf6w3"
   },
   "source": [
    "Similarly loading the validation set"
   ]
  },
  {
   "cell_type": "code",
   "execution_count": null,
   "metadata": {
    "id": "ANvjBlC8gA20"
   },
   "outputs": [],
   "source": [
    "directory_val= \"/content/drive/My Drive/Deep_Learning/HW3/timit-homework/v/\""
   ]
  },
  {
   "cell_type": "code",
   "execution_count": null,
   "metadata": {
    "id": "MyB6Mn5NiuJH"
   },
   "outputs": [],
   "source": [
    "# getting the filenames\n",
    "res=[]\n",
    "for root, dirs, files in os.walk(directory_val):\n",
    "  for filename in files:\n",
    "    res.append(filename)\n",
    "vx, vn, vs = [], [], []\n",
    "for filename in res:\n",
    "  if filename[:2] == \"vx\":\n",
    "    vx.append(filename)\n",
    "  elif filename[:2] == \"vs\":\n",
    "    vs.append(filename)\n",
    "  elif filename[:2] == \"vn\":\n",
    "    vn.append(filename)\n",
    "\n",
    "vs.sort()\n",
    "vx.sort()\n",
    "vn.sort()\n",
    "\n",
    "## Loading the wav files using librsoa\n",
    "VX,VS,VN=[],[],[]\n",
    "#s,sr=librosa.load(path=directory+vs[0])\n",
    "for filename in vx:\n",
    "  VX.append(librosa.load(path=directory_val+filename,sr=None)[0])\n",
    "for filename in vs:\n",
    "  VS.append(librosa.load(path=directory_val+filename,sr=None)[0])\n",
    "for filename in vn:\n",
    "  VN.append(librosa.load(path=directory_val+filename,sr=None)[0])\n",
    "\n",
    "# calculating the stft\n",
    "Xval,Sval,Nval=[],[],[]\n",
    "Xval_abs,Sval_abs,Nval_abs=[],[],[]\n",
    "for x in VX:\n",
    "  Xval.append(librosa.stft(x, n_fft=1024, hop_length=512))\n",
    "\n",
    "for x in VS:\n",
    "  Sval.append(librosa.stft(x, n_fft=1024, hop_length=512))\n",
    "\n",
    "for x in VN:\n",
    "  Nval.append(librosa.stft(x, n_fft=1024, hop_length=512))\n",
    "\n",
    "#getting the magnitude spectra\n",
    "for x in Xval:\n",
    "  Xval_abs.append(np.abs(x))\n",
    "\n",
    "for x in Sval:\n",
    "  Sval_abs.append(np.abs(x))\n",
    "\n",
    "for x in Nval:\n",
    "  Nval_abs.append(np.abs(x))\n",
    "\n",
    "\n",
    "## saving the lists in pickle objects\n",
    "file_name = \"Xval.pkl\"\n",
    "open_file = open(directory_val+file_name, \"wb\")\n",
    "pickle.dump(Xval, open_file)\n",
    "open_file.close()\n",
    "\n",
    "file_name = \"Sval.pkl\"\n",
    "open_file = open(directory_val+file_name, \"wb\")\n",
    "pickle.dump(Sval, open_file)\n",
    "open_file.close()\n",
    "\n",
    "file_name = \"Nval.pkl\"\n",
    "open_file = open(directory_val+file_name, \"wb\")\n",
    "pickle.dump(Nval, open_file)\n",
    "open_file.close()\n",
    "\n",
    "file_name = \"Xval_abs.pkl\"\n",
    "open_file = open(directory_val+file_name, \"wb\")\n",
    "pickle.dump(Xval_abs, open_file)\n",
    "open_file.close()\n",
    "\n",
    "file_name = \"Sval_abs.pkl\"\n",
    "open_file = open(directory_val+file_name, \"wb\")\n",
    "pickle.dump(Sval_abs, open_file)\n",
    "open_file.close()\n",
    "\n",
    "file_name = \"Nval_abs.pkl\"\n",
    "open_file = open(directory_val+file_name, \"wb\")\n",
    "pickle.dump(Nval_abs, open_file)\n",
    "open_file.close()\n",
    "\n",
    "print(\"-----------Saving Done-----------------\")"
   ]
  },
  {
   "cell_type": "code",
   "execution_count": null,
   "metadata": {
    "id": "BoU6ZkYoiuMg"
   },
   "outputs": [],
   "source": [
    "## Loading the spectrum lists from pickle\n",
    "\n",
    "file_name= \"Xval_abs.pkl\"\n",
    "open_file = open(directory_val+file_name, \"rb\")\n",
    "Xval_abs = pickle.load(open_file)\n",
    "open_file.close()\n",
    "\n",
    "file_name= \"Xval.pkl\"\n",
    "open_file = open(directory_val+file_name, \"rb\")\n",
    "Xval = pickle.load(open_file)\n",
    "open_file.close()\n",
    "\n",
    "file_name= \"Sval_abs.pkl\"\n",
    "open_file = open(directory_val+file_name, \"rb\")\n",
    "Sval_abs = pickle.load(open_file)\n",
    "open_file.close()\n",
    "\n",
    "file_name= \"Sval.pkl\"\n",
    "open_file = open(directory_val+file_name, \"rb\")\n",
    "Sval = pickle.load(open_file)\n",
    "open_file.close()\n",
    "\n",
    "file_name= \"Nval_abs.pkl\"\n",
    "open_file = open(directory_val+file_name, \"rb\")\n",
    "Nval_abs = pickle.load(open_file)\n",
    "open_file.close()\n",
    "\n",
    "file_name= \"Nval.pkl\"\n",
    "open_file = open(directory_val+file_name, \"rb\")\n",
    "Nval = pickle.load(open_file)\n",
    "open_file.close()\n"
   ]
  },
  {
   "cell_type": "code",
   "execution_count": null,
   "metadata": {
    "id": "9_wYY_23jHyS"
   },
   "outputs": [],
   "source": [
    "def truncate(Xtr,Str,Ntr,Xtr_abs,Str_abs,Ntr_abs):\n",
    "# trucating the samples\n",
    "  temp=[arr.shape[1] for arr in Xtr_abs]\n",
    "  Xtr_abs_trunc,Str_abs_trunc,Ntr_abs_trunc,Xtr_trunc,Str_trunc,Ntr_trunc=[],[],[],[],[],[]\n",
    "  for arr in Xtr_abs:\n",
    "    Xtr_abs_trunc.append(arr[:,:min(temp)])\n",
    "\n",
    "  for arr in Str_abs:\n",
    "    Str_abs_trunc.append(arr[:,:min(temp)])\n",
    "\n",
    "  for arr in Ntr_abs:\n",
    "    Ntr_abs_trunc.append(arr[:,:min(temp)])\n",
    "\n",
    "  for arr in Xtr:\n",
    "    Xtr_trunc.append(arr[:,:min(temp)])\n",
    "\n",
    "  for arr in Str:\n",
    "    Str_trunc.append(arr[:,:min(temp)])\n",
    "\n",
    "  for arr in Ntr:\n",
    "    Ntr_trunc.append(arr[:,:min(temp)])\n",
    "\n",
    "  return Xtr_abs_trunc,Str_abs_trunc,Ntr_abs_trunc,Xtr_trunc,Str_trunc,Ntr_trunc"
   ]
  },
  {
   "cell_type": "code",
   "execution_count": null,
   "metadata": {
    "id": "CME64JkqkLcI"
   },
   "outputs": [],
   "source": [
    "Xval_abs_trunc,Sval_abs_trunc,Nval_abs_trunc,Xval_trunc,Sval_trunc,Nval_trunc = truncate(Xval,Sval,Nval,Xval_abs,Sval_abs,Nval_abs)"
   ]
  },
  {
   "cell_type": "code",
   "execution_count": null,
   "metadata": {
    "colab": {
     "base_uri": "https://localhost:8080/"
    },
    "id": "XeHT5JBCJOsh",
    "outputId": "d1d721ff-9d86-4509-ad24-662755e2007e"
   },
   "outputs": [
    {
     "name": "stdout",
     "output_type": "stream",
     "text": [
      "shapes (1200, 513, 39) (1200, 513, 39) (1200, 513, 39) (1200, 513, 39) (1200, 513, 39) (1200, 513, 39)\n"
     ]
    }
   ],
   "source": [
    "def reshape(Xtr_abs_trunc,Str_abs_trunc,Ntr_abs_trunc,Xtr_trunc,Str_trunc,Ntr_trunc):\n",
    "# reshaping the lists of arrays into nd arrdays\n",
    "  temp=[39,59]\n",
    "  Xtr_abs=np.array(Xtr_abs_trunc).reshape((1200,513,min(temp)))\n",
    "  Str_abs=np.array(Str_abs_trunc).reshape((1200,513,min(temp)))\n",
    "  Ntr_abs=np.array(Ntr_abs_trunc).reshape((1200,513,min(temp)))\n",
    "\n",
    "  Xtr=np.array(Xtr_trunc).reshape((1200,513,min(temp)))\n",
    "  Str=np.array(Str_trunc).reshape((1200,513,min(temp)))\n",
    "  Ntr=np.array(Ntr_trunc).reshape((1200,513,min(temp)))\n",
    "  print(\"shapes\",Xtr_abs.shape,Str_abs.shape,Ntr_abs.shape,Xtr.shape,Str.shape,Ntr.shape)\n",
    "\n",
    "  return Xtr,Str,Ntr,Xtr_abs,Str_abs,Ntr_abs\n",
    "\n",
    "Xval,Sval,Nval,Xval_abs,Sval_abs,Nval_abs= reshape(Xval_abs_trunc,Sval_abs_trunc,Nval_abs_trunc,Xval_trunc,Sval_trunc,Nval_trunc)"
   ]
  },
  {
   "cell_type": "code",
   "execution_count": null,
   "metadata": {
    "colab": {
     "base_uri": "https://localhost:8080/"
    },
    "id": "wivsTjy0isSP",
    "outputId": "d806a6e7-b3e2-4651-990e-2dcb3d2f831c"
   },
   "outputs": [
    {
     "data": {
      "text/plain": [
       "((1200, 513, 39),\n",
       " (1200, 513, 39),\n",
       " (1200, 513, 39),\n",
       " (1200, 513, 39),\n",
       " (1200, 513, 39),\n",
       " (1200, 513, 39))"
      ]
     },
     "execution_count": 12,
     "metadata": {
      "tags": []
     },
     "output_type": "execute_result"
    }
   ],
   "source": [
    "Xval_abs.shape,Sval_abs.shape,Nval_abs.shape,Xval.shape,Sval.shape,Nval.shape"
   ]
  },
  {
   "cell_type": "markdown",
   "metadata": {
    "id": "x0MujXog8gfY"
   },
   "source": [
    "Constructing training and validation labels and inputs"
   ]
  },
  {
   "cell_type": "code",
   "execution_count": null,
   "metadata": {
    "colab": {
     "base_uri": "https://localhost:8080/"
    },
    "id": "Ydd1Pzm_8g2b",
    "outputId": "da0697ae-550e-4709-c81f-581437313ddd"
   },
   "outputs": [
    {
     "name": "stdout",
     "output_type": "stream",
     "text": [
      "(1200, 513, 39)\n",
      "(1200, 513, 39)\n"
     ]
    }
   ],
   "source": [
    "#constructing the target mask for training and validaion\n",
    "M= np.where(Str_abs>Ntr_abs,1,0)\n",
    "print(M.shape)\n",
    "\n",
    "M_val= np.where(Sval_abs>Nval_abs,1,0)\n",
    "print(M_val.shape)"
   ]
  },
  {
   "cell_type": "code",
   "execution_count": null,
   "metadata": {
    "colab": {
     "base_uri": "https://localhost:8080/"
    },
    "id": "XSQStrbPECrs",
    "outputId": "277ac592-a9e9-47e7-bcb2-9f4004cbfff7"
   },
   "outputs": [
    {
     "name": "stdout",
     "output_type": "stream",
     "text": [
      "training shapes (1200, 39, 513) (1200, 39, 513)\n",
      "validation shapes (1200, 39, 513) (1200, 39, 513)\n"
     ]
    }
   ],
   "source": [
    "## constructiong the training and validation data set\n",
    "\n",
    "X_fit=Xtr_abs.reshape((1200,39,513))\n",
    "Y_fit=M.reshape((1200,39,513))\n",
    "print(\"training shapes\",X_fit.shape,Y_fit.shape)\n",
    "\n",
    "X_validation= Xval_abs.reshape((1200,39,513))\n",
    "Y_validation=M_val.reshape((1200,39,513))\n",
    "\n",
    "print(\"validation shapes\",X_validation.shape,Y_validation.shape)"
   ]
  },
  {
   "cell_type": "code",
   "execution_count": null,
   "metadata": {
    "id": "Q8K6iBNGq_6v"
   },
   "outputs": [],
   "source": []
  },
  {
   "cell_type": "code",
   "execution_count": null,
   "metadata": {
    "colab": {
     "base_uri": "https://localhost:8080/"
    },
    "id": "YNQfrxu5IlG0",
    "outputId": "381e3337-3d82-41df-a9de-7f0aaa319dba"
   },
   "outputs": [
    {
     "name": "stdout",
     "output_type": "stream",
     "text": [
      "Epoch 1/80\n",
      "WARNING:tensorflow:Callbacks method `on_train_batch_end` is slow compared to the batch time (batch time: 0.0141s vs `on_train_batch_end` time: 0.0652s). Check your callbacks.\n",
      "24/24 - 2s - loss: 0.2804 - accuracy: 3.8462e-04 - val_loss: 0.2391 - val_accuracy: 5.9829e-04\n",
      "Epoch 2/80\n",
      "24/24 - 2s - loss: 0.2372 - accuracy: 0.0010 - val_loss: 0.2252 - val_accuracy: 4.2735e-04\n",
      "Epoch 3/80\n",
      "24/24 - 2s - loss: 0.2302 - accuracy: 5.5556e-04 - val_loss: 0.2344 - val_accuracy: 4.9145e-04\n",
      "Epoch 4/80\n",
      "24/24 - 2s - loss: 0.2288 - accuracy: 0.0015 - val_loss: 0.2199 - val_accuracy: 0.0024\n",
      "Epoch 5/80\n",
      "24/24 - 2s - loss: 0.2214 - accuracy: 0.0026 - val_loss: 0.2139 - val_accuracy: 0.0014\n",
      "Epoch 6/80\n",
      "24/24 - 2s - loss: 0.2181 - accuracy: 8.9744e-04 - val_loss: 0.2198 - val_accuracy: 0.0012\n",
      "Epoch 7/80\n",
      "24/24 - 2s - loss: 0.2130 - accuracy: 0.0011 - val_loss: 0.2112 - val_accuracy: 0.0018\n",
      "Epoch 8/80\n",
      "24/24 - 2s - loss: 0.2108 - accuracy: 0.0022 - val_loss: 0.2100 - val_accuracy: 0.0027\n",
      "Epoch 9/80\n",
      "24/24 - 2s - loss: 0.2093 - accuracy: 0.0020 - val_loss: 0.2080 - val_accuracy: 0.0016\n",
      "Epoch 10/80\n",
      "24/24 - 2s - loss: 0.2048 - accuracy: 0.0015 - val_loss: 0.2036 - val_accuracy: 9.1880e-04\n",
      "Epoch 11/80\n",
      "24/24 - 2s - loss: 0.2046 - accuracy: 0.0012 - val_loss: 0.2022 - val_accuracy: 8.1197e-04\n",
      "Epoch 12/80\n",
      "24/24 - 2s - loss: 0.2030 - accuracy: 0.0013 - val_loss: 0.2010 - val_accuracy: 0.0035\n",
      "Epoch 13/80\n",
      "24/24 - 2s - loss: 0.1989 - accuracy: 0.0013 - val_loss: 0.2006 - val_accuracy: 9.8291e-04\n",
      "Epoch 14/80\n",
      "24/24 - 2s - loss: 0.1960 - accuracy: 0.0012 - val_loss: 0.1966 - val_accuracy: 0.0041\n",
      "Epoch 15/80\n",
      "24/24 - 2s - loss: 0.1922 - accuracy: 0.0077 - val_loss: 0.1986 - val_accuracy: 0.0021\n",
      "Epoch 16/80\n",
      "24/24 - 2s - loss: 0.1865 - accuracy: 0.0056 - val_loss: 0.1893 - val_accuracy: 6.4103e-04\n",
      "Epoch 17/80\n",
      "24/24 - 2s - loss: 0.1822 - accuracy: 0.0018 - val_loss: 0.1872 - val_accuracy: 0.0036\n",
      "Epoch 18/80\n",
      "24/24 - 2s - loss: 0.1785 - accuracy: 0.0025 - val_loss: 0.1838 - val_accuracy: 7.0513e-04\n",
      "Epoch 19/80\n",
      "24/24 - 2s - loss: 0.1770 - accuracy: 0.0033 - val_loss: 0.1834 - val_accuracy: 0.0048\n",
      "Epoch 20/80\n",
      "24/24 - 2s - loss: 0.1747 - accuracy: 0.0040 - val_loss: 0.1800 - val_accuracy: 0.0056\n",
      "Epoch 21/80\n",
      "24/24 - 2s - loss: 0.1706 - accuracy: 0.0055 - val_loss: 0.1786 - val_accuracy: 0.0034\n",
      "Epoch 22/80\n",
      "24/24 - 2s - loss: 0.1671 - accuracy: 0.0073 - val_loss: 0.1756 - val_accuracy: 0.0075\n",
      "Epoch 23/80\n",
      "24/24 - 2s - loss: 0.1659 - accuracy: 0.0057 - val_loss: 0.1754 - val_accuracy: 0.0037\n",
      "Epoch 24/80\n",
      "24/24 - 2s - loss: 0.1605 - accuracy: 0.0038 - val_loss: 0.1759 - val_accuracy: 0.0063\n",
      "Epoch 25/80\n",
      "24/24 - 2s - loss: 0.1565 - accuracy: 0.0054 - val_loss: 0.1702 - val_accuracy: 0.0062\n",
      "Epoch 26/80\n",
      "24/24 - 2s - loss: 0.1541 - accuracy: 0.0055 - val_loss: 0.1691 - val_accuracy: 0.0051\n",
      "Epoch 27/80\n",
      "24/24 - 2s - loss: 0.1506 - accuracy: 0.0064 - val_loss: 0.1653 - val_accuracy: 0.0072\n",
      "Epoch 28/80\n",
      "24/24 - 2s - loss: 0.1475 - accuracy: 0.0051 - val_loss: 0.1643 - val_accuracy: 0.0035\n",
      "Epoch 29/80\n",
      "24/24 - 2s - loss: 0.1445 - accuracy: 0.0063 - val_loss: 0.1625 - val_accuracy: 0.0141\n",
      "Epoch 30/80\n",
      "24/24 - 2s - loss: 0.1415 - accuracy: 0.0075 - val_loss: 0.1613 - val_accuracy: 0.0041\n",
      "Epoch 31/80\n",
      "24/24 - 2s - loss: 0.1404 - accuracy: 0.0062 - val_loss: 0.1611 - val_accuracy: 0.0045\n",
      "Epoch 32/80\n",
      "24/24 - 2s - loss: 0.1376 - accuracy: 0.0056 - val_loss: 0.1610 - val_accuracy: 0.0057\n",
      "Epoch 33/80\n",
      "24/24 - 2s - loss: 0.1361 - accuracy: 0.0071 - val_loss: 0.1599 - val_accuracy: 0.0054\n",
      "Epoch 34/80\n",
      "24/24 - 2s - loss: 0.1336 - accuracy: 0.0074 - val_loss: 0.1613 - val_accuracy: 0.0087\n",
      "Epoch 35/80\n",
      "24/24 - 2s - loss: 0.1318 - accuracy: 0.0073 - val_loss: 0.1600 - val_accuracy: 0.0044\n",
      "Epoch 36/80\n",
      "24/24 - 2s - loss: 0.1302 - accuracy: 0.0062 - val_loss: 0.1574 - val_accuracy: 0.0067\n",
      "Epoch 37/80\n",
      "24/24 - 2s - loss: 0.1282 - accuracy: 0.0066 - val_loss: 0.1585 - val_accuracy: 0.0071\n",
      "Epoch 38/80\n",
      "24/24 - 2s - loss: 0.1267 - accuracy: 0.0059 - val_loss: 0.1592 - val_accuracy: 0.0034\n",
      "Epoch 39/80\n",
      "24/24 - 2s - loss: 0.1266 - accuracy: 0.0062 - val_loss: 0.1575 - val_accuracy: 0.0061\n",
      "Epoch 40/80\n",
      "24/24 - 2s - loss: 0.1246 - accuracy: 0.0065 - val_loss: 0.1561 - val_accuracy: 0.0036\n",
      "Epoch 41/80\n",
      "24/24 - 2s - loss: 0.1241 - accuracy: 0.0065 - val_loss: 0.1581 - val_accuracy: 0.0048\n",
      "Epoch 42/80\n",
      "24/24 - 2s - loss: 0.1222 - accuracy: 0.0059 - val_loss: 0.1562 - val_accuracy: 0.0051\n",
      "Epoch 43/80\n",
      "24/24 - 2s - loss: 0.1217 - accuracy: 0.0058 - val_loss: 0.1591 - val_accuracy: 0.0076\n",
      "Epoch 44/80\n",
      "24/24 - 2s - loss: 0.1214 - accuracy: 0.0065 - val_loss: 0.1572 - val_accuracy: 0.0065\n",
      "Epoch 45/80\n",
      "24/24 - 2s - loss: 0.1209 - accuracy: 0.0069 - val_loss: 0.1561 - val_accuracy: 0.0034\n",
      "Epoch 46/80\n",
      "24/24 - 2s - loss: 0.1198 - accuracy: 0.0065 - val_loss: 0.1580 - val_accuracy: 0.0106\n",
      "Epoch 47/80\n",
      "24/24 - 2s - loss: 0.1184 - accuracy: 0.0072 - val_loss: 0.1554 - val_accuracy: 0.0031\n",
      "Epoch 48/80\n",
      "24/24 - 2s - loss: 0.1176 - accuracy: 0.0071 - val_loss: 0.1559 - val_accuracy: 0.0089\n",
      "Epoch 49/80\n",
      "24/24 - 2s - loss: 0.1166 - accuracy: 0.0069 - val_loss: 0.1544 - val_accuracy: 0.0046\n",
      "Epoch 50/80\n",
      "24/24 - 2s - loss: 0.1155 - accuracy: 0.0060 - val_loss: 0.1575 - val_accuracy: 0.0047\n",
      "Epoch 51/80\n",
      "24/24 - 2s - loss: 0.1144 - accuracy: 0.0063 - val_loss: 0.1539 - val_accuracy: 0.0043\n",
      "Epoch 52/80\n",
      "24/24 - 2s - loss: 0.1136 - accuracy: 0.0068 - val_loss: 0.1557 - val_accuracy: 0.0032\n",
      "Epoch 53/80\n",
      "24/24 - 2s - loss: 0.1123 - accuracy: 0.0073 - val_loss: 0.1550 - val_accuracy: 0.0075\n",
      "Epoch 54/80\n",
      "24/24 - 2s - loss: 0.1117 - accuracy: 0.0076 - val_loss: 0.1536 - val_accuracy: 0.0050\n",
      "Epoch 55/80\n",
      "24/24 - 2s - loss: 0.1108 - accuracy: 0.0065 - val_loss: 0.1545 - val_accuracy: 0.0055\n",
      "Epoch 56/80\n",
      "24/24 - 2s - loss: 0.1106 - accuracy: 0.0062 - val_loss: 0.1581 - val_accuracy: 0.0044\n",
      "Epoch 57/80\n",
      "24/24 - 2s - loss: 0.1107 - accuracy: 0.0076 - val_loss: 0.1572 - val_accuracy: 0.0058\n",
      "Epoch 58/80\n",
      "24/24 - 2s - loss: 0.1094 - accuracy: 0.0068 - val_loss: 0.1543 - val_accuracy: 0.0047\n",
      "Epoch 59/80\n",
      "24/24 - 2s - loss: 0.1090 - accuracy: 0.0067 - val_loss: 0.1560 - val_accuracy: 0.0050\n",
      "Epoch 60/80\n",
      "24/24 - 2s - loss: 0.1079 - accuracy: 0.0064 - val_loss: 0.1524 - val_accuracy: 0.0062\n",
      "Epoch 61/80\n",
      "24/24 - 2s - loss: 0.1068 - accuracy: 0.0067 - val_loss: 0.1540 - val_accuracy: 0.0054\n",
      "Epoch 62/80\n",
      "24/24 - 2s - loss: 0.1060 - accuracy: 0.0072 - val_loss: 0.1536 - val_accuracy: 0.0061\n",
      "Epoch 63/80\n",
      "24/24 - 2s - loss: 0.1050 - accuracy: 0.0066 - val_loss: 0.1550 - val_accuracy: 0.0065\n",
      "Epoch 64/80\n",
      "24/24 - 2s - loss: 0.1051 - accuracy: 0.0075 - val_loss: 0.1528 - val_accuracy: 0.0054\n",
      "Epoch 65/80\n",
      "24/24 - 2s - loss: 0.1048 - accuracy: 0.0069 - val_loss: 0.1539 - val_accuracy: 0.0069\n",
      "Epoch 66/80\n",
      "24/24 - 2s - loss: 0.1043 - accuracy: 0.0066 - val_loss: 0.1550 - val_accuracy: 0.0053\n",
      "Epoch 67/80\n",
      "24/24 - 2s - loss: 0.1024 - accuracy: 0.0073 - val_loss: 0.1526 - val_accuracy: 0.0059\n",
      "Epoch 68/80\n",
      "24/24 - 2s - loss: 0.1008 - accuracy: 0.0069 - val_loss: 0.1532 - val_accuracy: 0.0056\n",
      "Epoch 69/80\n",
      "24/24 - 2s - loss: 0.1003 - accuracy: 0.0071 - val_loss: 0.1516 - val_accuracy: 0.0050\n",
      "Epoch 70/80\n",
      "24/24 - 2s - loss: 0.0999 - accuracy: 0.0072 - val_loss: 0.1550 - val_accuracy: 0.0059\n",
      "Epoch 71/80\n",
      "24/24 - 2s - loss: 0.0998 - accuracy: 0.0078 - val_loss: 0.1527 - val_accuracy: 0.0050\n",
      "Epoch 72/80\n",
      "24/24 - 2s - loss: 0.0985 - accuracy: 0.0074 - val_loss: 0.1520 - val_accuracy: 0.0065\n",
      "Epoch 73/80\n",
      "24/24 - 2s - loss: 0.0975 - accuracy: 0.0075 - val_loss: 0.1529 - val_accuracy: 0.0060\n",
      "Epoch 74/80\n",
      "24/24 - 2s - loss: 0.0968 - accuracy: 0.0077 - val_loss: 0.1526 - val_accuracy: 0.0061\n",
      "Epoch 75/80\n",
      "24/24 - 2s - loss: 0.0955 - accuracy: 0.0077 - val_loss: 0.1517 - val_accuracy: 0.0046\n",
      "Epoch 76/80\n",
      "24/24 - 2s - loss: 0.0946 - accuracy: 0.0074 - val_loss: 0.1501 - val_accuracy: 0.0062\n",
      "Epoch 77/80\n",
      "24/24 - 2s - loss: 0.0940 - accuracy: 0.0070 - val_loss: 0.1528 - val_accuracy: 0.0066\n",
      "Epoch 78/80\n",
      "24/24 - 2s - loss: 0.0932 - accuracy: 0.0076 - val_loss: 0.1519 - val_accuracy: 0.0055\n",
      "Epoch 79/80\n",
      "24/24 - 2s - loss: 0.0932 - accuracy: 0.0078 - val_loss: 0.1535 - val_accuracy: 0.0056\n",
      "Epoch 80/80\n",
      "24/24 - 2s - loss: 0.0927 - accuracy: 0.0074 - val_loss: 0.1524 - val_accuracy: 0.0054\n"
     ]
    }
   ],
   "source": [
    "## constructing the LSTM network\n",
    "def weights():\n",
    "  initializer = tf.keras.initializers.HeNormal\n",
    "  return initializer\n",
    "\n",
    "model=Sequential()\n",
    "model.add(LSTM(513, input_shape=(39,513),kernel_initializer=weights(), return_sequences=True))\n",
    "model.add(keras.layers.Dropout(0.005))\n",
    "\n",
    "model.add(LSTM(1024,kernel_initializer=weights(),return_sequences=True))\n",
    "model.add(keras.layers.Dropout(0.005))\n",
    "\n",
    "#model.add(LSTM(1024,activation='relu',kernel_initializer=weights(),return_sequences=True))\n",
    "##output layer\n",
    "model.add(Dense(513, activation='relu'))\n",
    "#compiling the model\n",
    "opt= tf.keras.optimizers.Adam()\n",
    "mse=tf.keras.losses.MeanSquaredError()\n",
    "model.compile(optimizer=opt,loss=mse,metrics=['accuracy'],)\n",
    "# training the model\n",
    "history=model.fit(X_fit,Y_fit, validation_data=(X_validation,Y_validation),epochs=80,verbose=2,batch_size=50)"
   ]
  },
  {
   "cell_type": "code",
   "execution_count": null,
   "metadata": {
    "colab": {
     "base_uri": "https://localhost:8080/"
    },
    "id": "05LFfFFSYJ4C",
    "outputId": "2086880e-81ce-465f-fbe8-d46e0e04de12"
   },
   "outputs": [
    {
     "name": "stdout",
     "output_type": "stream",
     "text": [
      "Model: \"sequential_1\"\n",
      "_________________________________________________________________\n",
      "Layer (type)                 Output Shape              Param #   \n",
      "=================================================================\n",
      "lstm_2 (LSTM)                (None, 39, 513)           2107404   \n",
      "_________________________________________________________________\n",
      "dropout_2 (Dropout)          (None, 39, 513)           0         \n",
      "_________________________________________________________________\n",
      "lstm_3 (LSTM)                (None, 39, 1024)          6299648   \n",
      "_________________________________________________________________\n",
      "dropout_3 (Dropout)          (None, 39, 1024)          0         \n",
      "_________________________________________________________________\n",
      "dense_1 (Dense)              (None, 39, 513)           525825    \n",
      "=================================================================\n",
      "Total params: 8,932,877\n",
      "Trainable params: 8,932,877\n",
      "Non-trainable params: 0\n",
      "_________________________________________________________________\n"
     ]
    }
   ],
   "source": [
    "model.summary()"
   ]
  },
  {
   "cell_type": "markdown",
   "metadata": {
    "id": "gp8JhOJEIu7M"
   },
   "source": [
    "Unmasking the validation predictions"
   ]
  },
  {
   "cell_type": "code",
   "execution_count": null,
   "metadata": {
    "id": "RbhmNxr3I3v5"
   },
   "outputs": [],
   "source": [
    "Mv_pred=model.predict(X_validation)\n",
    "## getting back original shapes\n",
    "Mv_pred= Mv_pred.reshape((1200,513,39))\n",
    "\n",
    "Sv_pred= Mv_pred*Xval # *Xval_abs\n",
    "# ## ISTFT on frequency domain validation signal\n",
    "sv_preds=[]\n",
    "for i in range(1200):\n",
    "  sv_preds.append(librosa.istft(Sv_pred[i,:,:], hop_length=512))"
   ]
  },
  {
   "cell_type": "markdown",
   "metadata": {
    "id": "CdZl-cJR0TQS"
   },
   "source": [
    "SNR Calculation"
   ]
  },
  {
   "cell_type": "code",
   "execution_count": null,
   "metadata": {
    "colab": {
     "base_uri": "https://localhost:8080/"
    },
    "id": "YuzqPCKnTp11",
    "outputId": "b9ac07e2-5f5e-4551-82cd-181d393e6102"
   },
   "outputs": [
    {
     "name": "stdout",
     "output_type": "stream",
     "text": [
      "1200\n"
     ]
    }
   ],
   "source": [
    "sv=[]\n",
    "for i in range(1200):\n",
    "  sv.append(librosa.istft(Sval[i,:,:], hop_length=512))\n",
    "print(len(sv))"
   ]
  },
  {
   "cell_type": "code",
   "execution_count": null,
   "metadata": {
    "id": "kmfaJT9T0P3B"
   },
   "outputs": [],
   "source": [
    "## calculating the SNR on validation set\n",
    "snr=[]\n",
    "for i in range(1200):\n",
    "  snr.append(10*np.log10(np.sum(sv[i]**2)/np.sum((sv[i]-sv_preds[i])**2)))"
   ]
  },
  {
   "cell_type": "code",
   "execution_count": null,
   "metadata": {
    "colab": {
     "base_uri": "https://localhost:8080/"
    },
    "id": "RoBsvauofK65",
    "outputId": "ec4d0691-aa8d-4704-d91d-e466d9e4f8dc"
   },
   "outputs": [
    {
     "name": "stdout",
     "output_type": "stream",
     "text": [
      "Max SNR value 20.609419345855713\n",
      "Min SNR value -0.24631641805171967\n",
      "Average SNR value 9.73469845596701\n"
     ]
    }
   ],
   "source": [
    "print(\"Max SNR value\", max(snr))\n",
    "print(\"Min SNR value\", min(snr))\n",
    "print(\"Average SNR value\", np.mean(snr))"
   ]
  },
  {
   "cell_type": "code",
   "execution_count": null,
   "metadata": {
    "colab": {
     "base_uri": "https://localhost:8080/",
     "height": 75
    },
    "id": "Wg80heMEaz_j",
    "outputId": "f95675cc-6d3b-4a91-f58a-8b09d84ecfda"
   },
   "outputs": [
    {
     "data": {
      "text/html": [
       "\n",
       "                <audio controls=\"controls\" >\n",
       "                    <source src=\"data:audio/x-wav;base64,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\" type=\"audio/x-wav\" />\n",
       "                    Your browser does not support the audio element.\n",
       "                </audio>\n",
       "              "
      ],
      "text/plain": [
       "<IPython.lib.display.Audio object>"
      ]
     },
     "execution_count": 28,
     "metadata": {
      "tags": []
     },
     "output_type": "execute_result"
    }
   ],
   "source": [
    "# listening to a random signal (6th audio)\n",
    "librosa.output.write_wav('validation1.wav', sv_preds[5],16000)\n",
    "Audio('validation1.wav')"
   ]
  },
  {
   "cell_type": "markdown",
   "metadata": {
    "id": "ba4fUnM2aoop"
   },
   "source": [
    "Test Data Set"
   ]
  },
  {
   "cell_type": "code",
   "execution_count": null,
   "metadata": {
    "id": "kHvlWDs3XUK0"
   },
   "outputs": [],
   "source": [
    "## reading the test files\n",
    "directory_test= \"/content/drive/My Drive/Deep_Learning/HW3/timit-homework/te/\""
   ]
  },
  {
   "cell_type": "code",
   "execution_count": null,
   "metadata": {
    "id": "_euwPhurVFgZ"
   },
   "outputs": [],
   "source": [
    "\n",
    "# getting the filenames\n",
    "res=[]\n",
    "for root, dirs, files in os.walk(directory_test):\n",
    "  for filename in files:\n",
    "    res.append(filename)\n",
    "res.sort()\n",
    "\n",
    "TE=[]\n",
    "\n",
    "for filename in res:\n",
    "  TE.append(librosa.load(path=directory_test+filename,sr=None)[0])\n",
    "  sr=librosa.load(path=directory_test+filename,sr=None)[1]\n",
    "\n",
    "#getting magnitude spectra of all test files\n",
    "specs_te=[]\n",
    "specs_te_complex=[]\n",
    "for x in TE:\n",
    "  specs_te.append(np.abs(librosa.stft(x, n_fft=1024, hop_length=512)))\n",
    "  specs_te_complex.append(librosa.stft(x, n_fft=1024, hop_length=512))"
   ]
  },
  {
   "cell_type": "code",
   "execution_count": null,
   "metadata": {
    "id": "1cuOQuWAAVkO"
   },
   "outputs": [],
   "source": [
    "## saving the lists in pickle objects\n",
    "file_name = \"specs_te.pkl\"\n",
    "open_file = open(directory_test+file_name, \"wb\")\n",
    "pickle.dump(specs_te, open_file)\n",
    "open_file.close()"
   ]
  },
  {
   "cell_type": "code",
   "execution_count": null,
   "metadata": {
    "id": "LAxp7a2xAmNu"
   },
   "outputs": [],
   "source": [
    "## Loading the spectrum lists from pickle\n",
    "file_name = \"specs_te.pkl\"\n",
    "open_file = open(directory_test+file_name, \"rb\")\n",
    "specs_te = pickle.load(open_file)\n",
    "open_file.close()\n"
   ]
  },
  {
   "cell_type": "code",
   "execution_count": null,
   "metadata": {
    "id": "jhfQUrCpB_IX"
   },
   "outputs": [],
   "source": [
    "temp=[arr.shape[1] for arr in specs_te]\n",
    "specs_te_trunc=[]\n",
    "for arr in specs_te:\n",
    "  specs_te_trunc.append(arr[:,:min(temp)])"
   ]
  },
  {
   "cell_type": "code",
   "execution_count": null,
   "metadata": {
    "id": "kmRqxYdenqPv"
   },
   "outputs": [],
   "source": [
    "temp=[arr.shape[1] for arr in specs_te_complex]\n",
    "specs_te_trunc_complex=[]\n",
    "for arr in specs_te_complex:\n",
    "  specs_te_trunc_complex.append(arr[:,:min(temp)])"
   ]
  },
  {
   "cell_type": "code",
   "execution_count": null,
   "metadata": {
    "colab": {
     "base_uri": "https://localhost:8080/"
    },
    "id": "RU6ZSviGDWUG",
    "outputId": "df3b991c-d473-4ba7-8a74-a9a19c5c6590"
   },
   "outputs": [
    {
     "name": "stdout",
     "output_type": "stream",
     "text": [
      "(400, 513, 56)\n"
     ]
    }
   ],
   "source": [
    "specs_te=np.array(specs_te_trunc).reshape((400,513,min(temp)))\n",
    "print(specs_te.shape)"
   ]
  },
  {
   "cell_type": "code",
   "execution_count": null,
   "metadata": {
    "colab": {
     "base_uri": "https://localhost:8080/"
    },
    "id": "ZEccYrEloKLX",
    "outputId": "d50ec6c9-4883-4504-fd9d-76466f60b3f5"
   },
   "outputs": [
    {
     "name": "stdout",
     "output_type": "stream",
     "text": [
      "(400, 513, 56)\n"
     ]
    }
   ],
   "source": [
    "specs_te_complex=np.array(specs_te_trunc_complex).reshape((400,513,min(temp)))\n",
    "print(specs_te_complex.shape)"
   ]
  },
  {
   "cell_type": "code",
   "execution_count": null,
   "metadata": {
    "id": "gnYMYdxUDw1n"
   },
   "outputs": [],
   "source": [
    "## prediction on the test signals\n",
    "test_preds=model.predict(specs_te.reshape((400,56,513)))"
   ]
  },
  {
   "cell_type": "code",
   "execution_count": null,
   "metadata": {
    "colab": {
     "base_uri": "https://localhost:8080/"
    },
    "id": "OAZIDS9qduws",
    "outputId": "babd222b-4b6b-4bc0-f02b-21175b744305"
   },
   "outputs": [
    {
     "data": {
      "text/plain": [
       "(400, 56, 513)"
      ]
     },
     "execution_count": 75,
     "metadata": {
      "tags": []
     },
     "output_type": "execute_result"
    }
   ],
   "source": [
    "test_preds.shape"
   ]
  },
  {
   "cell_type": "code",
   "execution_count": null,
   "metadata": {
    "colab": {
     "base_uri": "https://localhost:8080/"
    },
    "id": "QmhaR6jqEC3l",
    "outputId": "e5c3d92a-9e89-41fe-ab4a-5c1441884717"
   },
   "outputs": [
    {
     "name": "stdout",
     "output_type": "stream",
     "text": [
      "400\n"
     ]
    }
   ],
   "source": [
    "##istft on test preds\n",
    "test_preds=test_preds.reshape((400,513,56))\n",
    "test_preds=test_preds*specs_te_complex\n",
    "st=[]\n",
    "for i in range(400):\n",
    "  st.append(librosa.istft(test_preds[i,:,:], hop_length=512))\n",
    "print(len(st))"
   ]
  },
  {
   "cell_type": "code",
   "execution_count": null,
   "metadata": {
    "id": "BsG3oOUJe0LO"
   },
   "outputs": [],
   "source": [
    "output_directory= \"/content/drive/My Drive/Deep_Learning/HW3/timit-homework/output/\""
   ]
  },
  {
   "cell_type": "code",
   "execution_count": null,
   "metadata": {
    "id": "en4nciY2XK_X"
   },
   "outputs": [],
   "source": [
    "##writing into .wav files\n",
    "for i in range(400):\n",
    "  filename=f'signal{i}'\n",
    "  librosa.output.write_wav(output_directory+filename, st[i],16000)"
   ]
  },
  {
   "cell_type": "code",
   "execution_count": null,
   "metadata": {},
   "outputs": [],
   "source": []
  }
 ],
 "metadata": {
  "accelerator": "GPU",
  "colab": {
   "collapsed_sections": [],
   "name": "HW3_final.ipynb",
   "provenance": []
  },
  "kernelspec": {
   "display_name": "Python 3",
   "language": "python",
   "name": "python3"
  },
  "language_info": {
   "codemirror_mode": {
    "name": "ipython",
    "version": 3
   },
   "file_extension": ".py",
   "mimetype": "text/x-python",
   "name": "python",
   "nbconvert_exporter": "python",
   "pygments_lexer": "ipython3",
   "version": "3.7.3"
  }
 },
 "nbformat": 4,
 "nbformat_minor": 1
}
