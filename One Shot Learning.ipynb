{
 "cells": [
  {
   "cell_type": "markdown",
   "metadata": {
    "id": "lu3QaCk3nc1C"
   },
   "source": [
    "**One Shot Learning with minimal training data using Siamese Network**"
   ]
  },
  {
   "cell_type": "code",
   "execution_count": 3,
   "metadata": {
    "id": "5Q5CXdVpngHG"
   },
   "outputs": [],
   "source": [
    "import tensorflow as tf\n",
    "from tensorflow import keras\n",
    "from keras import backend as K\n",
    "from tensorflow.keras import layers\n",
    "import numpy as np\n",
    "import pandas as pd\n",
    "import matplotlib.pyplot as plt\n",
    "from tensorflow.keras.models import Sequential\n",
    "from tensorflow.keras.layers import Dense, Flatten, Softmax,LSTM, Lambda, GRU\n",
    "import seaborn as sns\n",
    "import matplotlib.pyplot as plt\n",
    "import pandas as pd\n",
    "import librosa\n",
    "import math\n",
    "from IPython.display import Audio\n",
    "import os\n",
    "import itertools\n",
    "import pickle"
   ]
  },
  {
   "cell_type": "code",
   "execution_count": 4,
   "metadata": {
    "id": "R59X4CPEndHO"
   },
   "outputs": [],
   "source": [
    "directory= \"/content/drive/My Drive/Deep_Learning/HW4/\""
   ]
  },
  {
   "cell_type": "code",
   "execution_count": 5,
   "metadata": {
    "colab": {
     "base_uri": "https://localhost:8080/"
    },
    "id": "2Agl_S7lq5sY",
    "outputId": "5d91b9a8-f754-4a57-cac6-2d3fedec6e64"
   },
   "outputs": [
    {
     "name": "stdout",
     "output_type": "stream",
     "text": [
      "shape of training matrix (500, 16180)\n",
      "shape of testing matrix (200, 22631)\n"
     ]
    }
   ],
   "source": [
    "# loading the training and testing data\n",
    "filename_tr='hw4_trs.pkl'\n",
    "filename_te='hw4_tes.pkl'  \n",
    "\n",
    "# reading train file\n",
    "open_file = open(directory+filename_tr, \"rb\")\n",
    "tr= pickle.load(open_file)\n",
    "open_file.close()\n",
    "\n",
    "# reading test file\n",
    "open_file = open(directory+filename_te, \"rb\")\n",
    "te= pickle.load(open_file)\n",
    "open_file.close()\n",
    "\n",
    "print(\"shape of training matrix\", tr.shape)\n",
    "print(\"shape of testing matrix\", te.shape)"
   ]
  },
  {
   "cell_type": "markdown",
   "metadata": {
    "id": "XCgThbhhBA5d"
   },
   "source": [
    "STFT of all the training and testing signals"
   ]
  },
  {
   "cell_type": "code",
   "execution_count": 6,
   "metadata": {
    "colab": {
     "base_uri": "https://localhost:8080/"
    },
    "id": "nV4Ih5WxA_YK",
    "outputId": "eb775604-ef64-4c85-cfc2-9370b5d719b1"
   },
   "outputs": [
    {
     "name": "stdout",
     "output_type": "stream",
     "text": [
      "shape of initial training matrix (500, 513, 32)\n",
      "shape of initial testing matrix (200, 513, 45)\n"
     ]
    }
   ],
   "source": [
    "def stft(tr):\n",
    "    tr_speakers=[]\n",
    "    for i in range(len(tr)):\n",
    "    tr_speakers.append(librosa.stft(tr[i,:], n_fft=1024, hop_length=512))\n",
    "    return np.array(tr_speakers)\n",
    "\n",
    "tr=stft(tr) # stft on training set\n",
    "te=stft(te) # stft on test set\n",
    "print(\"shape of initial training matrix\", tr.shape)\n",
    "print(\"shape of initial testing matrix\", te.shape)"
   ]
  },
  {
   "cell_type": "code",
   "execution_count": 7,
   "metadata": {
    "colab": {
     "base_uri": "https://localhost:8080/"
    },
    "id": "Cm_AIwxzpXo8",
    "outputId": "a9048b1a-3bc6-4efb-b5e2-90e412f3ebd0"
   },
   "outputs": [
    {
     "name": "stdout",
     "output_type": "stream",
     "text": [
      "Shape of training matrix of pair 1 (4500, 32, 513)\n",
      "Shape of training matrix of pair 2 (4500, 32, 513)\n"
     ]
    }
   ],
   "source": [
    "## preprocessing for training set\n",
    "\n",
    "S_tr = np.split(tr, 50)\n",
    "S_te = np.split(te, 20)\n",
    "\n",
    "S1= S_tr[0]\n",
    "S1_pos = np.array(list(itertools.combinations(S1, 2))) # combination of positive occurences for S1\n",
    "#print(S1_pos.shape)\n",
    "\n",
    "L = len(S1_pos)\n",
    "train_loader = []\n",
    "for i in range(len(S_tr)):\n",
    "    Si = S_tr[i]\n",
    "    # positive examples - contains combination with itself [(.., ..), (.., ..), .......45 such tuples]\n",
    "    Si_pos = np.array(list(itertools.combinations(Si, 2)))\n",
    "    L = len(Si_pos)\n",
    "    \n",
    "    subset = np.concatenate((tr[0:10 * i], tr[(10 + i*10):]))\n",
    "    \n",
    "    set_1 = subset[np.random.choice(subset.shape[0], L, replace=True)]\n",
    "    set_2 = Si[np.random.choice(Si.shape[0], L, replace=True)]\n",
    "\n",
    "    final_set = []\n",
    "    for i in range(len(set_1)):\n",
    "        final_set.append((set_1[i], set_2[i]))\n",
    "    first_neg = np.array(final_set)    \n",
    "    \n",
    "    first_minibatch = np.concatenate((S1_pos, first_neg))\n",
    "    \n",
    "    train_loader.append(first_minibatch)\n",
    "\n",
    "train_loader=np.array(train_loader).reshape((4500,2,32,513))\n",
    "tr_pair1= train_loader[:,0,:,:]\n",
    "tr_pair2= train_loader[:,1,:,:]\n",
    "print(\"Shape of training matrix of pair 1\", tr_pair1.shape)\n",
    "print(\"Shape of training matrix of pair 2\", tr_pair2.shape)"
   ]
  },
  {
   "cell_type": "code",
   "execution_count": 8,
   "metadata": {
    "colab": {
     "base_uri": "https://localhost:8080/"
    },
    "id": "zNyfMju9wJnK",
    "outputId": "7693cdf1-9575-49fe-cee1-e00731d5ff40"
   },
   "outputs": [
    {
     "name": "stdout",
     "output_type": "stream",
     "text": [
      "Shape of testing matrix of pair 1 (1800, 45, 513)\n",
      "Shape of testing matrix of pair 2 (1800, 45, 513)\n"
     ]
    }
   ],
   "source": [
    "# pairing for test set\n",
    "S1= S_te[0]\n",
    "S1_pos = np.array(list(itertools.combinations(S1, 2))) # combination of positive occurences for S1\n",
    "#print(S1_pos.shape)\n",
    "\n",
    "L = len(S1_pos)\n",
    "train_loader = []\n",
    "for i in range(len(S_te)):\n",
    "    Si = S_te[i]\n",
    "    # positive examples - contains combination with itself [(.., ..), (.., ..), .......45 such tuples]\n",
    "    Si_pos = np.array(list(itertools.combinations(Si, 2)))\n",
    "    L = len(Si_pos)\n",
    "    \n",
    "    subset = np.concatenate((te[0:10 * i], te[(10 + i*10):]))\n",
    "    \n",
    "    set_1 = subset[np.random.choice(subset.shape[0], L, replace=True)]\n",
    "    set_2 = Si[np.random.choice(Si.shape[0], L, replace=True)]\n",
    "\n",
    "    final_set = []\n",
    "    for i in range(len(set_1)):\n",
    "        final_set.append((set_1[i], set_2[i]))\n",
    "    first_neg = np.array(final_set)    \n",
    "    \n",
    "    first_minibatch = np.concatenate((S1_pos, first_neg))\n",
    "    \n",
    "    train_loader.append(first_minibatch)\n",
    "\n",
    "train_loader=np.array(train_loader).reshape((1800,2,45,513))\n",
    "te_pair1= train_loader[:,0,:,:]\n",
    "te_pair2= train_loader[:,1,:,:]\n",
    "print(\"Shape of testing matrix of pair 1\", te_pair1.shape)\n",
    "print(\"Shape of testing matrix of pair 2\", te_pair2.shape)"
   ]
  },
  {
   "cell_type": "code",
   "execution_count": 9,
   "metadata": {
    "colab": {
     "base_uri": "https://localhost:8080/"
    },
    "id": "kUjsjH20vrNW",
    "outputId": "08059e0f-47e3-4c20-de94-57c088abe7c6"
   },
   "outputs": [
    {
     "name": "stdout",
     "output_type": "stream",
     "text": [
      "shape of Y train matrix (4500, 1)\n",
      "shape of Y test matrix (1800, 1)\n"
     ]
    }
   ],
   "source": [
    "# creating Y matrix for training set\n",
    "Y_tr=[]\n",
    "ones=np.ones((45,1))\n",
    "zeros=np.zeros((45,1))\n",
    "for i in range(50):\n",
    "  Y_tr.append(ones)\n",
    "  Y_tr.append(zeros)\n",
    "Y_tr=np.array(Y_tr).reshape((4500,1))\n",
    "print(\"shape of Y train matrix\",Y_tr.shape)\n",
    "\n",
    "# creating Y matrix for test set\n",
    "Y_te=[]\n",
    "ones=np.ones((45,1))\n",
    "zeros=np.zeros((45,1))\n",
    "for i in range(20):\n",
    "  Y_te.append(ones)\n",
    "  Y_te.append(zeros)\n",
    "Y_te=np.array(Y_te).reshape(1800,1)\n",
    "print(\"shape of Y test matrix\",Y_te.shape)"
   ]
  },
  {
   "cell_type": "markdown",
   "metadata": {
    "id": "azUzeQY4AnI4"
   },
   "source": [
    "Creating the model architecture"
   ]
  },
  {
   "cell_type": "code",
   "execution_count": 10,
   "metadata": {
    "colab": {
     "base_uri": "https://localhost:8080/",
     "height": 422
    },
    "id": "ZNsczVnXbfFV",
    "outputId": "6e2054f8-15f5-4565-c556-e2b7fb4a6d42"
   },
   "outputs": [
    {
     "data": {
      "image/png": "[encoded data removed]",
      "text/plain": [
       "<IPython.core.display.Image object>"
      ]
     },
     "execution_count": 10,
     "metadata": {
      "tags": []
     },
     "output_type": "execute_result"
    }
   ],
   "source": [
    "## constructing the LSTM network\n",
    "def weights():\n",
    "    initializer = tf.keras.initializers.HeNormal\n",
    "    return initializer\n",
    "\n",
    "ip1= keras.Input(shape=(None,513))\n",
    "ip2= keras.Input(shape=(None,513))\n",
    "\n",
    "model=Sequential()\n",
    "model.add(LSTM(513, input_shape=(None,513),kernel_initializer=weights(), return_sequences=True))\n",
    "#model.add(LSTM(1024,kernel_initializer=weights(),return_sequences=True))\n",
    "#model.add(Flatten())\n",
    "model.add(GRU(100,kernel_initializer=weights(), return_sequences=True))\n",
    "model.add(GRU(64,kernel_initializer=weights(), return_sequences=True))\n",
    "model.add(Dense(64, activation='relu'))\n",
    "\n",
    "encoding_p1= model(ip1)\n",
    "encoding_p2= model(ip2)\n",
    "\n",
    "inter_layer= Lambda(lambda tensors: tf.multiply(tensors[0], tensors[1]))([encoding_p1,encoding_p2])\n",
    "\n",
    "op= Dense(1, activation='sigmoid')(inter_layer)\n",
    "siamese_net= keras.Model(inputs=[ip1,ip2],outputs=op)\n",
    "\n",
    "keras.utils.plot_model(siamese_net,show_shapes=True)\n"
   ]
  },
  {
   "cell_type": "code",
   "execution_count": 11,
   "metadata": {
    "id": "-5ggvSVJJ0gf"
   },
   "outputs": [],
   "source": [
    "#compiling the model\n",
    "opt= tf.keras.optimizers.Adam()\n",
    "siamese_net.compile(loss=\"binary_crossentropy\",optimizer=opt,metrics=['accuracy'])\n",
    "# training the model\n",
    "history=siamese_net.fit([tr_pair1,tr_pair2],Y_tr,epochs=20,batch_size=50)"
   ]
  },
  {
   "cell_type": "code",
   "execution_count": 13,
   "metadata": {
    "colab": {
     "base_uri": "https://localhost:8080/"
    },
    "id": "ZykyiX7m2M9i",
    "outputId": "75cfe5bb-7e70-4f4c-f5cf-7773cd48a92b"
   },
   "outputs": [
    {
     "name": "stdout",
     "output_type": "stream",
     "text": [
      "test accuracy is 0.7110863542556763\n"
     ]
    }
   ],
   "source": [
    "loss,acc= siamese_net.evaluate([te_pair1,te_pair2],Y_te,verbose=0)\n",
    "print(\"test accuracy is\", acc)"
   ]
  },
  {
   "cell_type": "code",
   "execution_count": null,
   "metadata": {},
   "outputs": [],
   "source": []
  }
 ],
 "metadata": {
  "kernelspec": {
   "display_name": "Python 3",
   "language": "python",
   "name": "python3"
  },
  "language_info": {
   "codemirror_mode": {
    "name": "ipython",
    "version": 3
   },
   "file_extension": ".py",
   "mimetype": "text/x-python",
   "name": "python",
   "nbconvert_exporter": "python",
   "pygments_lexer": "ipython3",
   "version": "3.7.3"
  }
 },
 "nbformat": 4,
 "nbformat_minor": 2
}
